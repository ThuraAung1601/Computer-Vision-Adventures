{
  "nbformat": 4,
  "nbformat_minor": 0,
  "metadata": {
    "kernelspec": {
      "display_name": "Python 3",
      "language": "python",
      "name": "python3"
    },
    "language_info": {
      "codemirror_mode": {
        "name": "ipython",
        "version": 3
      },
      "file_extension": ".py",
      "mimetype": "text/x-python",
      "name": "python",
      "nbconvert_exporter": "python",
      "pygments_lexer": "ipython3",
      "version": "3.6.3"
    },
    "colab": {
      "name": "python-basics.ipynb",
      "provenance": [],
      "collapsed_sections": [
        "1DacyssCzYVN",
        "f89rLLaCzYVV",
        "AI1fPPzJzYVg",
        "vrdbyP6JzYVl",
        "TPCY7gwrzYV2",
        "lYuIaBeBzYWL",
        "A1FFKIcSzYWn",
        "u8yjwkyDzYYS",
        "kkC0ufW8zYYf",
        "3XG2_O6yTlie",
        "Bl94UxlVsPQF"
      ],
      "toc_visible": true
    }
  },
  "cells": [
    {
      "cell_type": "markdown",
      "metadata": {
        "id": "1DacyssCzYVN",
        "colab_type": "text"
      },
      "source": [
        "## Introduction to Python"
      ]
    },
    {
      "cell_type": "markdown",
      "metadata": {
        "id": "PftSlNK2zYVO",
        "colab_type": "text"
      },
      "source": [
        "A few high-level notes on Python\n",
        "\n",
        "- Python is an intepreted language, meaning there is no linking or compiling necessary of (pure Python) programs. You can execute Python code interactively using a REPL (Read-Eval-Print Loop)\n",
        "\n",
        "- Python allows you to split a program over modules that can be reused in other Python programs.\n",
        "\n",
        "- Statement grouping is done via indentation rather than brackets or braces."
      ]
    },
    {
      "cell_type": "markdown",
      "metadata": {
        "id": "ZPB1JC3xzYVT",
        "colab_type": "text"
      },
      "source": [
        "- Variable and argument declarations are not needed."
      ]
    },
    {
      "cell_type": "markdown",
      "metadata": {
        "id": "wSKJbVynzYVU",
        "colab_type": "text"
      },
      "source": [
        "That is, you don't have to do things like this that you have in C.\n",
        "\n",
        "    int i;\n",
        "    for (i = 0; i < 10; i ++){\n",
        "        ...\n",
        "    }\n",
        "\n",
        "In Python, it's simply\n",
        "\n",
        "    for i in range(10):\n",
        "        ..."
      ]
    },
    {
      "cell_type": "markdown",
      "metadata": {
        "id": "GZ6wXmtrzYVV",
        "colab_type": "text"
      },
      "source": [
        "- Python is extensible. For example, if you know how to program in C, you can write speed critical code in C and make them available to Python. Or if you have a legacy library in Fortran, with a small amount of work you can use this library from Python."
      ]
    },
    {
      "cell_type": "markdown",
      "metadata": {
        "id": "f89rLLaCzYVV",
        "colab_type": "text"
      },
      "source": [
        "## Modules"
      ]
    },
    {
      "cell_type": "markdown",
      "metadata": {
        "id": "niZixoT9zYVW",
        "colab_type": "text"
      },
      "source": [
        "A module is a file that contains Python definitions and statements. The file will end with `.py`."
      ]
    },
    {
      "cell_type": "markdown",
      "metadata": {
        "id": "Dw74C06GzYVX",
        "colab_type": "text"
      },
      "source": [
        "You might fire up your favorite editor and create a file called `hurricane_simulation.py`."
      ]
    },
    {
      "cell_type": "markdown",
      "metadata": {
        "id": "LtRHbsMPzYVX",
        "colab_type": "text"
      },
      "source": [
        "    #! /usr/bin/python\n",
        "    \"\"\"\n",
        "    Simulate a category-5 tropical storm to 100-km accuracy\n",
        "    Author: Skipper Seabold\n",
        "    Created: January 14, 2013\n",
        "    \"\"\"\n",
        "    \n",
        "    import numpy as np\n",
        "    # ..."
      ]
    },
    {
      "cell_type": "markdown",
      "metadata": {
        "id": "uvhf9c6KzYVY",
        "colab_type": "text"
      },
      "source": [
        "## Getting Help"
      ]
    },
    {
      "cell_type": "markdown",
      "metadata": {
        "id": "Y4ZOUYzTzYVZ",
        "colab_type": "text"
      },
      "source": [
        "The lines in triple-quotes are referred to as the module docstring. This is how code is documented in Python."
      ]
    },
    {
      "cell_type": "code",
      "metadata": {
        "id": "Ol3DUjR3zYVZ",
        "colab_type": "code",
        "colab": {
          "base_uri": "https://localhost:8080/"
        },
        "outputId": "e0c76037-a3c4-4f8d-c935-e9e5902152d7"
      },
      "source": [
        "print(range.__doc__)"
      ],
      "execution_count": null,
      "outputs": [
        {
          "output_type": "stream",
          "text": [
            "range(stop) -> range object\n",
            "range(start, stop[, step]) -> range object\n",
            "\n",
            "Return an object that produces a sequence of integers from start (inclusive)\n",
            "to stop (exclusive) by step.  range(i, j) produces i, i+1, i+2, ..., j-1.\n",
            "start defaults to 0, and stop is omitted!  range(4) produces 0, 1, 2, 3.\n",
            "These are exactly the valid indices for a list of 4 elements.\n",
            "When step is given, it specifies the increment (or decrement).\n"
          ],
          "name": "stdout"
        }
      ]
    },
    {
      "cell_type": "markdown",
      "metadata": {
        "id": "sYLv7z9czYVd",
        "colab_type": "text"
      },
      "source": [
        "In IPython/Jupyter, you can use `?` to get the docstring."
      ]
    },
    {
      "cell_type": "code",
      "metadata": {
        "id": "rTP7_AACzYVd",
        "colab_type": "code",
        "colab": {}
      },
      "source": [
        "range?"
      ],
      "execution_count": null,
      "outputs": []
    },
    {
      "cell_type": "markdown",
      "metadata": {
        "id": "AI1fPPzJzYVg",
        "colab_type": "text"
      },
      "source": [
        "## Self Help"
      ]
    },
    {
      "cell_type": "markdown",
      "metadata": {
        "id": "4Ab7HHlZzYVh",
        "colab_type": "text"
      },
      "source": [
        "Comments begin with a `#` in Python. Comment your code liberally."
      ]
    },
    {
      "cell_type": "code",
      "metadata": {
        "id": "JOmFy1xhzYVi",
        "colab_type": "code",
        "colab": {}
      },
      "source": [
        "# this is a comment"
      ],
      "execution_count": null,
      "outputs": []
    },
    {
      "cell_type": "markdown",
      "metadata": {
        "id": "vrdbyP6JzYVl",
        "colab_type": "text"
      },
      "source": [
        "## Displaying"
      ]
    },
    {
      "cell_type": "markdown",
      "metadata": {
        "id": "jW7gKraXzYVm",
        "colab_type": "text"
      },
      "source": [
        "You can use the print functions to display strings"
      ]
    },
    {
      "cell_type": "code",
      "metadata": {
        "id": "oAb_KmOtzYVm",
        "colab_type": "code",
        "colab": {
          "base_uri": "https://localhost:8080/",
          "height": 51
        },
        "outputId": "08546dda-8caa-4b0b-9539-744ac6576146"
      },
      "source": [
        "# output hello world\n",
        "print(\"Hello, world.\")\n",
        "# print()\n",
        "print(\"Hello\")"
      ],
      "execution_count": null,
      "outputs": [
        {
          "output_type": "stream",
          "text": [
            "Hello, world.\n",
            "Hello\n"
          ],
          "name": "stdout"
        }
      ]
    },
    {
      "cell_type": "markdown",
      "metadata": {
        "id": "wZhbn7cJzYVp",
        "colab_type": "text"
      },
      "source": [
        "You can print variables as part of strings"
      ]
    },
    {
      "cell_type": "code",
      "metadata": {
        "id": "uMu1XRx5zYVq",
        "colab_type": "code",
        "colab": {
          "base_uri": "https://localhost:8080/"
        },
        "outputId": "5fa63249-6c75-4ec2-d11c-32d33647133c"
      },
      "source": [
        "name = \"Skipper\"\n",
        "name2 = 'Thura'\n",
        "print(\"Hello, world. My name is {} I am an Engr\".format(name))\n",
        "print(f\"Hello {name2}\")"
      ],
      "execution_count": null,
      "outputs": [
        {
          "output_type": "stream",
          "text": [
            "Hello, world. My name is Skipper\n",
            "Hello Thura\n"
          ],
          "name": "stdout"
        }
      ]
    },
    {
      "cell_type": "markdown",
      "metadata": {
        "id": "Th-FFzuRzYVt",
        "colab_type": "text"
      },
      "source": [
        "You can print numbers too."
      ]
    },
    {
      "cell_type": "code",
      "metadata": {
        "id": "mdohpLLBzYVt",
        "colab_type": "code",
        "colab": {
          "base_uri": "https://localhost:8080/"
        },
        "outputId": "3fa57959-3539-4374-d03c-cb3229208155"
      },
      "source": [
        "print(\"2 + 2 =\", 4)"
      ],
      "execution_count": null,
      "outputs": [
        {
          "output_type": "stream",
          "text": [
            "2 + 2 = 4\n"
          ],
          "name": "stdout"
        }
      ]
    },
    {
      "cell_type": "code",
      "metadata": {
        "id": "WxsDBvxozYVw",
        "colab_type": "code",
        "colab": {
          "base_uri": "https://localhost:8080/"
        },
        "outputId": "435e9d31-b7cf-4fe9-ea72-e71356c1fcb5"
      },
      "source": [
        "print(\"2 + 2 = {:d}\".format(4))"
      ],
      "execution_count": null,
      "outputs": [
        {
          "output_type": "stream",
          "text": [
            "2 + 2 = 4\n"
          ],
          "name": "stdout"
        }
      ]
    },
    {
      "cell_type": "code",
      "metadata": {
        "id": "fpDPa6snzYV0",
        "colab_type": "code",
        "colab": {
          "base_uri": "https://localhost:8080/"
        },
        "outputId": "5ab40ecb-b90d-42ea-83ef-4ebfb94e2991"
      },
      "source": [
        "print(\"2 + 2 = {:05d}\".format(4))"
      ],
      "execution_count": null,
      "outputs": [
        {
          "output_type": "stream",
          "text": [
            "2 + 2 = 00004\n"
          ],
          "name": "stdout"
        }
      ]
    },
    {
      "cell_type": "markdown",
      "metadata": {
        "id": "yQInnCKliuSR",
        "colab_type": "text"
      },
      "source": [
        "Data Types\n",
        "*   int \n",
        "*   float\n",
        "*   string str\n",
        "*   list\n",
        "*   tuple\n",
        "*   dictionary\n",
        "\n"
      ]
    },
    {
      "cell_type": "markdown",
      "metadata": {
        "id": "TPCY7gwrzYV2",
        "colab_type": "text"
      },
      "source": [
        "## Numbers and Arithmetic Operations"
      ]
    },
    {
      "cell_type": "markdown",
      "metadata": {
        "id": "nhxebDWazYV3",
        "colab_type": "text"
      },
      "source": [
        "Scalar multiplication is indicated by an asterisk (\\*), or \"star.\" Addition, subtraction, and division operators are `+`, `-`, and `/`. Exponentiation is done by two asterisks."
      ]
    },
    {
      "cell_type": "code",
      "metadata": {
        "id": "DYGFma4nzYV4",
        "colab_type": "code",
        "colab": {
          "base_uri": "https://localhost:8080/"
        },
        "outputId": "16ef80c8-68d7-417c-b499-83a8af2c8fbc"
      },
      "source": [
        "2 * (5.0 / 8.0 - 1.25)**2"
      ],
      "execution_count": null,
      "outputs": [
        {
          "output_type": "execute_result",
          "data": {
            "text/plain": [
              "0.78125"
            ]
          },
          "metadata": {
            "tags": []
          },
          "execution_count": 19
        }
      ]
    },
    {
      "cell_type": "markdown",
      "metadata": {
        "id": "tLrP47-LzYV6",
        "colab_type": "text"
      },
      "source": [
        "In Python 3, the division operators is float division. To force explicit integer division, use `//`."
      ]
    },
    {
      "cell_type": "code",
      "metadata": {
        "id": "sGIjqR6hzYV7",
        "colab_type": "code",
        "colab": {
          "base_uri": "https://localhost:8080/"
        },
        "outputId": "fdfaab2f-fcb8-4728-91f0-635801a7f0e8"
      },
      "source": [
        "5 / 8"
      ],
      "execution_count": null,
      "outputs": [
        {
          "output_type": "execute_result",
          "data": {
            "text/plain": [
              "0.625"
            ]
          },
          "metadata": {
            "tags": []
          },
          "execution_count": 20
        }
      ]
    },
    {
      "cell_type": "code",
      "metadata": {
        "id": "4G1M577zzYWA",
        "colab_type": "code",
        "colab": {
          "base_uri": "https://localhost:8080/"
        },
        "outputId": "655e04f0-614c-4229-f223-f63cd9cedd78"
      },
      "source": [
        "5 // 8"
      ],
      "execution_count": null,
      "outputs": [
        {
          "output_type": "execute_result",
          "data": {
            "text/plain": [
              "0"
            ]
          },
          "metadata": {
            "tags": []
          },
          "execution_count": 21
        }
      ]
    },
    {
      "cell_type": "code",
      "metadata": {
        "id": "UwRZnEufzYWD",
        "colab_type": "code",
        "colab": {
          "base_uri": "https://localhost:8080/"
        },
        "outputId": "2eeb5427-3c43-44a0-8a0f-6b07aae603c6"
      },
      "source": [
        "5.0 // 8.0"
      ],
      "execution_count": null,
      "outputs": [
        {
          "output_type": "execute_result",
          "data": {
            "text/plain": [
              "0.0"
            ]
          },
          "metadata": {
            "tags": []
          },
          "execution_count": 22
        }
      ]
    },
    {
      "cell_type": "markdown",
      "metadata": {
        "id": "eN_2_pShzYWF",
        "colab_type": "text"
      },
      "source": [
        "The modulo operator is `%`. This gives the remainder after dividing two numbers."
      ]
    },
    {
      "cell_type": "code",
      "metadata": {
        "id": "0BoUmsySzYWG",
        "colab_type": "code",
        "colab": {
          "base_uri": "https://localhost:8080/"
        },
        "outputId": "8c127a5d-7322-41bb-b4b1-699544ba0ff2"
      },
      "source": [
        "8 % 5"
      ],
      "execution_count": null,
      "outputs": [
        {
          "output_type": "execute_result",
          "data": {
            "text/plain": [
              "3"
            ]
          },
          "metadata": {
            "tags": []
          },
          "execution_count": 23
        }
      ]
    },
    {
      "cell_type": "code",
      "metadata": {
        "id": "8JQD5CM5zYWJ",
        "colab_type": "code",
        "colab": {
          "base_uri": "https://localhost:8080/"
        },
        "outputId": "0b835bb1-beeb-486d-9ef0-d2e9b19dbf91"
      },
      "source": [
        "5.5 % 8"
      ],
      "execution_count": null,
      "outputs": [
        {
          "output_type": "execute_result",
          "data": {
            "text/plain": [
              "5.5"
            ]
          },
          "metadata": {
            "tags": []
          },
          "execution_count": 24
        }
      ]
    },
    {
      "cell_type": "markdown",
      "metadata": {
        "id": "lYuIaBeBzYWL",
        "colab_type": "text"
      },
      "source": [
        "## Variables and Assignments"
      ]
    },
    {
      "cell_type": "markdown",
      "metadata": {
        "id": "GhWi7ndPkJnf",
        "colab_type": "text"
      },
      "source": [
        ""
      ]
    },
    {
      "cell_type": "markdown",
      "metadata": {
        "id": "gqalsYDfzYWM",
        "colab_type": "text"
      },
      "source": [
        "Assignment is done through the equals operators `=`. Variable names are case-sensitive."
      ]
    },
    {
      "cell_type": "code",
      "metadata": {
        "id": "2v2oTsEPAJvu",
        "colab_type": "code",
        "colab": {
          "base_uri": "https://localhost:8080/",
          "height": 85
        },
        "outputId": "82ab36a3-8da9-4354-d2c1-4c792169d869"
      },
      "source": [
        "pi = 3.142\n",
        "radius = 2.5\n",
        "area = pi*radius*radius\n",
        "print(3.142*2.5*2.5)\n",
        "print(area)\n",
        "print(area + 1)\n",
        "area = area + 1\n",
        "print(area)"
      ],
      "execution_count": null,
      "outputs": [
        {
          "output_type": "stream",
          "text": [
            "19.6375\n",
            "19.6375\n",
            "20.6375\n",
            "20.6375\n"
          ],
          "name": "stdout"
        }
      ]
    },
    {
      "cell_type": "code",
      "metadata": {
        "id": "ORKA1JzszYWM",
        "colab_type": "code",
        "colab": {}
      },
      "source": [
        "length_of_bridge = 15"
      ],
      "execution_count": null,
      "outputs": []
    },
    {
      "cell_type": "markdown",
      "metadata": {
        "id": "Nt7C5XurzYWO",
        "colab_type": "text"
      },
      "source": [
        "For the assertion operator use the usual `==`, `<`, `>`, `!=`, etc."
      ]
    },
    {
      "cell_type": "code",
      "metadata": {
        "id": "6GQNd-ijzYWP",
        "colab_type": "code",
        "colab": {
          "base_uri": "https://localhost:8080/",
          "height": 34
        },
        "outputId": "8d8eee97-4b5a-48f7-c896-68ba8adaa82e"
      },
      "source": [
        "length_of_bridge == 16"
      ],
      "execution_count": null,
      "outputs": [
        {
          "output_type": "execute_result",
          "data": {
            "text/plain": [
              "False"
            ]
          },
          "metadata": {
            "tags": []
          },
          "execution_count": 7
        }
      ]
    },
    {
      "cell_type": "code",
      "metadata": {
        "id": "2uTN3ZsKzYWR",
        "colab_type": "code",
        "colab": {
          "base_uri": "https://localhost:8080/",
          "height": 34
        },
        "outputId": "7877fa31-8ec1-4fab-d427-ac224d2382d4"
      },
      "source": [
        "length_of_bridge <= 14"
      ],
      "execution_count": null,
      "outputs": [
        {
          "output_type": "execute_result",
          "data": {
            "text/plain": [
              "False"
            ]
          },
          "metadata": {
            "tags": []
          },
          "execution_count": 9
        }
      ]
    },
    {
      "cell_type": "code",
      "metadata": {
        "id": "rrkpZ5X1zYWU",
        "colab_type": "code",
        "colab": {
          "base_uri": "https://localhost:8080/",
          "height": 34
        },
        "outputId": "a5757f40-4341-49c4-94a2-cbe4a9ba2e86"
      },
      "source": [
        "length_of_bridge != 16"
      ],
      "execution_count": null,
      "outputs": [
        {
          "output_type": "execute_result",
          "data": {
            "text/plain": [
              "True"
            ]
          },
          "metadata": {
            "tags": []
          },
          "execution_count": 10
        }
      ]
    },
    {
      "cell_type": "markdown",
      "metadata": {
        "id": "nqKyipE5zYWW",
        "colab_type": "text"
      },
      "source": [
        "Getting rid of a variable."
      ]
    },
    {
      "cell_type": "code",
      "metadata": {
        "id": "Gphhx210zYWX",
        "colab_type": "code",
        "colab": {}
      },
      "source": [
        "del length_of_bridge"
      ],
      "execution_count": null,
      "outputs": []
    },
    {
      "cell_type": "code",
      "metadata": {
        "id": "Nwv5700aZIH0",
        "colab_type": "code",
        "colab": {
          "base_uri": "https://localhost:8080/",
          "height": 164
        },
        "outputId": "7f22d0d8-3379-404f-ecc7-2ce925f6c72d"
      },
      "source": [
        "print(length_of_bridge)"
      ],
      "execution_count": null,
      "outputs": [
        {
          "output_type": "error",
          "ename": "NameError",
          "evalue": "ignored",
          "traceback": [
            "\u001b[0;31m---------------------------------------------------------------------------\u001b[0m",
            "\u001b[0;31mNameError\u001b[0m                                 Traceback (most recent call last)",
            "\u001b[0;32m<ipython-input-12-20cc882ca995>\u001b[0m in \u001b[0;36m<module>\u001b[0;34m()\u001b[0m\n\u001b[0;32m----> 1\u001b[0;31m \u001b[0mprint\u001b[0m\u001b[0;34m(\u001b[0m\u001b[0mlength_of_bridge\u001b[0m\u001b[0;34m)\u001b[0m\u001b[0;34m\u001b[0m\u001b[0;34m\u001b[0m\u001b[0m\n\u001b[0m",
            "\u001b[0;31mNameError\u001b[0m: name 'length_of_bridge' is not defined"
          ]
        }
      ]
    },
    {
      "cell_type": "markdown",
      "metadata": {
        "id": "hwZWV19HzYWZ",
        "colab_type": "text"
      },
      "source": [
        "Note: For now, it's best to think of del as a way to clean up the namespace rather than as the equivalent of `free` in C, i.e., a memory-management tool. You can read some more about garbage collection in CPython [here](http://docs.python.org/3/library/gc.html), if you're interested."
      ]
    },
    {
      "cell_type": "markdown",
      "metadata": {
        "id": "XtX2pJ8uzYWa",
        "colab_type": "text"
      },
      "source": [
        "You can find out what variables are declared in the local or global namespace, by using the dictionaries locals() and globals()."
      ]
    },
    {
      "cell_type": "code",
      "metadata": {
        "id": "WDmkDWLLzYWa",
        "colab_type": "code",
        "colab": {}
      },
      "source": [
        "x = 12"
      ],
      "execution_count": null,
      "outputs": []
    },
    {
      "cell_type": "code",
      "metadata": {
        "id": "Efwq70pkzYWd",
        "colab_type": "code",
        "colab": {
          "base_uri": "https://localhost:8080/"
        },
        "outputId": "d3039b61-0d51-4a83-bce2-0cd7ca3e9318"
      },
      "source": [
        "locals()['x']"
      ],
      "execution_count": null,
      "outputs": [
        {
          "output_type": "execute_result",
          "data": {
            "text/plain": [
              "12"
            ]
          },
          "metadata": {
            "tags": []
          },
          "execution_count": 36
        }
      ]
    },
    {
      "cell_type": "code",
      "metadata": {
        "id": "YqVGLGguzYWf",
        "colab_type": "code",
        "colab": {}
      },
      "source": [
        "del x"
      ],
      "execution_count": null,
      "outputs": []
    },
    {
      "cell_type": "code",
      "metadata": {
        "id": "YpxIqpUNzYWi",
        "colab_type": "code",
        "colab": {
          "base_uri": "https://localhost:8080/"
        },
        "outputId": "1d728aa4-b3cc-4c1c-ed22-b8ef729d3168"
      },
      "source": [
        "locals().get('x', 'not here')"
      ],
      "execution_count": null,
      "outputs": [
        {
          "output_type": "execute_result",
          "data": {
            "application/vnd.google.colaboratory.intrinsic": {
              "type": "string"
            },
            "text/plain": [
              "'not here'"
            ]
          },
          "metadata": {
            "tags": []
          },
          "execution_count": 38
        }
      ]
    },
    {
      "cell_type": "markdown",
      "metadata": {
        "id": "QR5YUMKDzYWk",
        "colab_type": "text"
      },
      "source": [
        "You can increment and decrement variables in-place using += and -=."
      ]
    },
    {
      "cell_type": "code",
      "metadata": {
        "id": "xFEQYvEEzYWk",
        "colab_type": "code",
        "colab": {
          "base_uri": "https://localhost:8080/",
          "height": 34
        },
        "outputId": "39e198ec-bb3f-4352-b26e-7d436147aee4"
      },
      "source": [
        "x = 12\n",
        "#x = x + 1\n",
        "x += 1\n",
        "print(x)"
      ],
      "execution_count": null,
      "outputs": [
        {
          "output_type": "stream",
          "text": [
            "13\n"
          ],
          "name": "stdout"
        }
      ]
    },
    {
      "cell_type": "markdown",
      "metadata": {
        "id": "A1FFKIcSzYWn",
        "colab_type": "text"
      },
      "source": [
        "## Built-in types: iterables"
      ]
    },
    {
      "cell_type": "markdown",
      "metadata": {
        "id": "N7yCeIOtzYWn",
        "colab_type": "text"
      },
      "source": [
        "**Lists** are constructed with square brackets separating items with commas. Lists are mutable, meaning they can be changed."
      ]
    },
    {
      "cell_type": "code",
      "metadata": {
        "id": "AQijppNZzYWo",
        "colab_type": "code",
        "colab": {}
      },
      "source": [
        "heights = [21.6, 22.5, 19.8, 20.5]"
      ],
      "execution_count": null,
      "outputs": []
    },
    {
      "cell_type": "markdown",
      "metadata": {
        "id": "iIbx1yCUzYWq",
        "colab_type": "text"
      },
      "source": [
        "All Python iterables are zero-indexed."
      ]
    },
    {
      "cell_type": "code",
      "metadata": {
        "id": "v0o12hDvzYWq",
        "colab_type": "code",
        "colab": {
          "base_uri": "https://localhost:8080/"
        },
        "outputId": "b54e3ebd-f613-495b-c62f-8ffe1bc1d48b"
      },
      "source": [
        "print(heights[3])"
      ],
      "execution_count": null,
      "outputs": [
        {
          "output_type": "stream",
          "text": [
            "20.5\n"
          ],
          "name": "stdout"
        }
      ]
    },
    {
      "cell_type": "markdown",
      "metadata": {
        "id": "cujx-HbxzYWt",
        "colab_type": "text"
      },
      "source": [
        "You can use negative indexing."
      ]
    },
    {
      "cell_type": "code",
      "metadata": {
        "id": "xHQnUrHAzYWt",
        "colab_type": "code",
        "colab": {
          "base_uri": "https://localhost:8080/"
        },
        "outputId": "501a3ea6-fa4b-4458-91c5-b775fb0c3ce9"
      },
      "source": [
        "print(heights[-1])"
      ],
      "execution_count": null,
      "outputs": [
        {
          "output_type": "stream",
          "text": [
            "12\n"
          ],
          "name": "stdout"
        }
      ]
    },
    {
      "cell_type": "markdown",
      "metadata": {
        "id": "tzwzL2n2zYWw",
        "colab_type": "text"
      },
      "source": [
        "Lists are mutable, so we can change an item."
      ]
    },
    {
      "cell_type": "code",
      "metadata": {
        "id": "c4y8bBswzYWx",
        "colab_type": "code",
        "colab": {}
      },
      "source": [
        "heights[2] = 12"
      ],
      "execution_count": null,
      "outputs": []
    },
    {
      "cell_type": "markdown",
      "metadata": {
        "id": "8x2uGbu0zYWz",
        "colab_type": "text"
      },
      "source": [
        "Be careful. `a` is a reference to the list we created. Python passes this *same* reference on assignment."
      ]
    },
    {
      "cell_type": "code",
      "metadata": {
        "id": "fel41vEHzYW0",
        "colab_type": "code",
        "colab": {}
      },
      "source": [
        "a = [21.6, 22.5, 19.8, 20.5]"
      ],
      "execution_count": null,
      "outputs": []
    },
    {
      "cell_type": "code",
      "metadata": {
        "id": "C773onFGzYW2",
        "colab_type": "code",
        "colab": {
          "base_uri": "https://localhost:8080/"
        },
        "outputId": "45358a6e-bfb5-4a77-9fa3-205f867c8824"
      },
      "source": [
        "#b = a\n",
        "b = a[:]\n",
        "b[2] = 32.1\n",
        "print(a)\n",
        "print(b)"
      ],
      "execution_count": null,
      "outputs": [
        {
          "output_type": "stream",
          "text": [
            "[21.6, 22.5, 19.8, 20.5]\n",
            "[21.6, 22.5, 32.1, 20.5]\n"
          ],
          "name": "stdout"
        }
      ]
    },
    {
      "cell_type": "code",
      "metadata": {
        "id": "ym1rC06qzYW5",
        "colab_type": "code",
        "colab": {
          "base_uri": "https://localhost:8080/"
        },
        "outputId": "71be411d-696d-4745-8a61-0c81a1a7de52"
      },
      "source": [
        "id(a)"
      ],
      "execution_count": null,
      "outputs": [
        {
          "output_type": "execute_result",
          "data": {
            "text/plain": [
              "139903052728776"
            ]
          },
          "metadata": {
            "tags": []
          },
          "execution_count": 54
        }
      ]
    },
    {
      "cell_type": "code",
      "metadata": {
        "id": "YmieDE5yzYW7",
        "colab_type": "code",
        "colab": {
          "base_uri": "https://localhost:8080/"
        },
        "outputId": "29f62fcb-3245-4643-a149-27657d796247"
      },
      "source": [
        "id(b)"
      ],
      "execution_count": null,
      "outputs": [
        {
          "output_type": "execute_result",
          "data": {
            "text/plain": [
              "139903053182664"
            ]
          },
          "metadata": {
            "tags": []
          },
          "execution_count": 55
        }
      ]
    },
    {
      "cell_type": "markdown",
      "metadata": {
        "id": "rORlWx-XzYW-",
        "colab_type": "text"
      },
      "source": [
        "Taking a slice, however, does copy."
      ]
    },
    {
      "cell_type": "code",
      "metadata": {
        "id": "B8fN2c4bzYW-",
        "colab_type": "code",
        "colab": {}
      },
      "source": [
        "b = a[1:3]\n",
        "print(b)"
      ],
      "execution_count": null,
      "outputs": []
    },
    {
      "cell_type": "code",
      "metadata": {
        "id": "v91rvRnvzYXC",
        "colab_type": "code",
        "colab": {}
      },
      "source": [
        "b[0] = 22.16\n",
        "print(b)\n",
        "print(a)"
      ],
      "execution_count": null,
      "outputs": []
    },
    {
      "cell_type": "markdown",
      "metadata": {
        "id": "gisS_F6KzYXE",
        "colab_type": "text"
      },
      "source": [
        "You can use the copy-on-slice syntax to copy the whole list."
      ]
    },
    {
      "cell_type": "code",
      "metadata": {
        "id": "0dl-WhrUzYXF",
        "colab_type": "code",
        "colab": {}
      },
      "source": [
        "b = a[:]"
      ],
      "execution_count": null,
      "outputs": []
    },
    {
      "cell_type": "markdown",
      "metadata": {
        "id": "SGaUkevezYXI",
        "colab_type": "text"
      },
      "source": [
        "Or use the list constructor explicitly, after all, explicit is better than implicit."
      ]
    },
    {
      "cell_type": "code",
      "metadata": {
        "id": "Ffu3J2dJzYXI",
        "colab_type": "code",
        "colab": {}
      },
      "source": [
        "b = list(a)"
      ],
      "execution_count": null,
      "outputs": []
    },
    {
      "cell_type": "code",
      "metadata": {
        "id": "auKaAMEozYXL",
        "colab_type": "code",
        "colab": {}
      },
      "source": [
        "print(id(a))"
      ],
      "execution_count": null,
      "outputs": []
    },
    {
      "cell_type": "code",
      "metadata": {
        "id": "w1z2xnEDzYXN",
        "colab_type": "code",
        "colab": {}
      },
      "source": [
        "print(id(b))"
      ],
      "execution_count": null,
      "outputs": []
    },
    {
      "cell_type": "markdown",
      "metadata": {
        "id": "UDakDlLEzYXQ",
        "colab_type": "text"
      },
      "source": [
        "You can place any objects in a list."
      ]
    },
    {
      "cell_type": "code",
      "metadata": {
        "id": "GMfWwKx-zYXQ",
        "colab_type": "code",
        "colab": {}
      },
      "source": [
        "a = [1, 2, [10, 11]]"
      ],
      "execution_count": null,
      "outputs": []
    },
    {
      "cell_type": "code",
      "metadata": {
        "id": "Q911kTCSzYXS",
        "colab_type": "code",
        "colab": {}
      },
      "source": [
        "print(a[0])"
      ],
      "execution_count": null,
      "outputs": []
    },
    {
      "cell_type": "code",
      "metadata": {
        "id": "XsQdDInxzYXU",
        "colab_type": "code",
        "colab": {
          "base_uri": "https://localhost:8080/"
        },
        "outputId": "5e004669-dd86-4d6c-c65d-22cee54a828b"
      },
      "source": [
        "print(a[-1])"
      ],
      "execution_count": null,
      "outputs": [
        {
          "output_type": "stream",
          "text": [
            "[10, 11]\n"
          ],
          "name": "stdout"
        }
      ]
    },
    {
      "cell_type": "markdown",
      "metadata": {
        "id": "36IMFqrZzYXW",
        "colab_type": "text"
      },
      "source": [
        "You can quickly create list(-like object) with the range function."
      ]
    },
    {
      "cell_type": "code",
      "metadata": {
        "id": "GLgyEdPQzYXW",
        "colab_type": "code",
        "colab": {}
      },
      "source": [
        "years = range(1996, 2013)"
      ],
      "execution_count": null,
      "outputs": []
    },
    {
      "cell_type": "code",
      "metadata": {
        "id": "Op_er7A4zYXZ",
        "colab_type": "code",
        "colab": {
          "base_uri": "https://localhost:8080/"
        },
        "outputId": "a422c82d-d230-4d06-fb08-dfa61e09f9dc"
      },
      "source": [
        "print(years)"
      ],
      "execution_count": null,
      "outputs": [
        {
          "output_type": "stream",
          "text": [
            "range(1996, 2013)\n"
          ],
          "name": "stdout"
        }
      ]
    },
    {
      "cell_type": "markdown",
      "metadata": {
        "id": "TMke0MSjzYXa",
        "colab_type": "text"
      },
      "source": [
        "You can given offset to range."
      ]
    },
    {
      "cell_type": "code",
      "metadata": {
        "id": "9dkLPNB2zYXb",
        "colab_type": "code",
        "colab": {}
      },
      "source": [
        "years = range(1996, 2013, 4)"
      ],
      "execution_count": null,
      "outputs": []
    },
    {
      "cell_type": "code",
      "metadata": {
        "id": "QYWzfnk6zYXe",
        "colab_type": "code",
        "colab": {
          "base_uri": "https://localhost:8080/"
        },
        "outputId": "de76fbd6-03a5-4697-bfbd-4e1a4d785ebb"
      },
      "source": [
        "print(years)"
      ],
      "execution_count": null,
      "outputs": [
        {
          "output_type": "stream",
          "text": [
            "range(1996, 2013, 4)\n"
          ],
          "name": "stdout"
        }
      ]
    },
    {
      "cell_type": "markdown",
      "metadata": {
        "id": "ATamkd_tzYXg",
        "colab_type": "text"
      },
      "source": [
        "**Tuples** are much like lists; however, they are immutable and, therefore, [hashable](http://docs.python.org/2/glossary.html#term-hashable). You instantiate a tuple using parantheses () and separate items using a comma."
      ]
    },
    {
      "cell_type": "code",
      "metadata": {
        "id": "xNvrJMPxzYXg",
        "colab_type": "code",
        "colab": {}
      },
      "source": [
        "a = (1, 2, 3)"
      ],
      "execution_count": null,
      "outputs": []
    },
    {
      "cell_type": "code",
      "metadata": {
        "id": "9gsje6ilzYXk",
        "colab_type": "code",
        "colab": {
          "base_uri": "https://localhost:8080/"
        },
        "outputId": "d55e4124-3928-409c-fe3b-56fb55310989"
      },
      "source": [
        "print(a)"
      ],
      "execution_count": null,
      "outputs": [
        {
          "output_type": "stream",
          "text": [
            "(1, 2, 3)\n"
          ],
          "name": "stdout"
        }
      ]
    },
    {
      "cell_type": "code",
      "metadata": {
        "id": "5eLnxPnGzYXl",
        "colab_type": "code",
        "colab": {
          "base_uri": "https://localhost:8080/"
        },
        "outputId": "8237618d-aa7e-4cb2-c962-d7e52764b444"
      },
      "source": [
        "for i in a:\n",
        "    print(i)"
      ],
      "execution_count": null,
      "outputs": [
        {
          "output_type": "stream",
          "text": [
            "1\n",
            "2\n",
            "3\n"
          ],
          "name": "stdout"
        }
      ]
    },
    {
      "cell_type": "code",
      "metadata": {
        "id": "v-u7jVmFzYXn",
        "colab_type": "code",
        "colab": {
          "base_uri": "https://localhost:8080/"
        },
        "outputId": "089aaa67-25cc-4085-dedd-218142841446"
      },
      "source": [
        "a[1] = 12"
      ],
      "execution_count": null,
      "outputs": [
        {
          "output_type": "error",
          "ename": "TypeError",
          "evalue": "ignored",
          "traceback": [
            "\u001b[0;31m---------------------------------------------------------------------------\u001b[0m",
            "\u001b[0;31mTypeError\u001b[0m                                 Traceback (most recent call last)",
            "\u001b[0;32m<ipython-input-67-4c7dc446b5ed>\u001b[0m in \u001b[0;36m<module>\u001b[0;34m()\u001b[0m\n\u001b[0;32m----> 1\u001b[0;31m \u001b[0ma\u001b[0m\u001b[0;34m[\u001b[0m\u001b[0;36m1\u001b[0m\u001b[0;34m]\u001b[0m \u001b[0;34m=\u001b[0m \u001b[0;36m12\u001b[0m\u001b[0;34m\u001b[0m\u001b[0;34m\u001b[0m\u001b[0m\n\u001b[0m",
            "\u001b[0;31mTypeError\u001b[0m: 'tuple' object does not support item assignment"
          ]
        }
      ]
    },
    {
      "cell_type": "code",
      "metadata": {
        "id": "0b_cY_eMzYXp",
        "colab_type": "code",
        "colab": {
          "base_uri": "https://localhost:8080/"
        },
        "outputId": "92c09d55-e335-4540-c2e2-90a0737d9515"
      },
      "source": [
        "try:\n",
        "    1/0.\n",
        "    print('ok')\n",
        "except ZeroDivisionError:\n",
        "    print(\"You can't divide by zero!\")"
      ],
      "execution_count": null,
      "outputs": [
        {
          "output_type": "stream",
          "text": [
            "You can't divide by zero!\n"
          ],
          "name": "stdout"
        }
      ]
    },
    {
      "cell_type": "markdown",
      "metadata": {
        "id": "BIO2dTBuzYXq",
        "colab_type": "text"
      },
      "source": [
        "**Strings** are also an iterables. However, it may surprise you that strings are immutable unlike in C."
      ]
    },
    {
      "cell_type": "code",
      "metadata": {
        "id": "lteZS8TMzYXr",
        "colab_type": "code",
        "colab": {}
      },
      "source": [
        "a = 'abcdef'"
      ],
      "execution_count": null,
      "outputs": []
    },
    {
      "cell_type": "code",
      "metadata": {
        "id": "B8VbM79_zYXt",
        "colab_type": "code",
        "colab": {
          "base_uri": "https://localhost:8080/"
        },
        "outputId": "f4901c9b-3a99-4fa0-fa30-e0e8a192e7e0"
      },
      "source": [
        "for i in a:\n",
        "    print(i)"
      ],
      "execution_count": null,
      "outputs": [
        {
          "output_type": "stream",
          "text": [
            "a\n",
            "b\n",
            "c\n",
            "d\n",
            "e\n",
            "f\n"
          ],
          "name": "stdout"
        }
      ]
    },
    {
      "cell_type": "code",
      "metadata": {
        "id": "3vlk2lExzYXv",
        "colab_type": "code",
        "colab": {
          "base_uri": "https://localhost:8080/"
        },
        "outputId": "a6a7a070-c3b5-48e8-cdd1-b830f6c264d1"
      },
      "source": [
        "print(a[2])"
      ],
      "execution_count": null,
      "outputs": [
        {
          "output_type": "stream",
          "text": [
            "c\n"
          ],
          "name": "stdout"
        }
      ]
    },
    {
      "cell_type": "code",
      "metadata": {
        "id": "W9IyXCLizYXx",
        "colab_type": "code",
        "colab": {
          "base_uri": "https://localhost:8080/"
        },
        "outputId": "6988b036-0b7a-4c5b-eab8-145da9c8f227"
      },
      "source": [
        "a[2] = 'q'"
      ],
      "execution_count": null,
      "outputs": [
        {
          "output_type": "error",
          "ename": "TypeError",
          "evalue": "ignored",
          "traceback": [
            "\u001b[0;31m---------------------------------------------------------------------------\u001b[0m",
            "\u001b[0;31mTypeError\u001b[0m                                 Traceback (most recent call last)",
            "\u001b[0;32m<ipython-input-73-cd1bb916a5e7>\u001b[0m in \u001b[0;36m<module>\u001b[0;34m()\u001b[0m\n\u001b[0;32m----> 1\u001b[0;31m \u001b[0ma\u001b[0m\u001b[0;34m[\u001b[0m\u001b[0;36m2\u001b[0m\u001b[0;34m]\u001b[0m \u001b[0;34m=\u001b[0m \u001b[0;34m'q'\u001b[0m\u001b[0;34m\u001b[0m\u001b[0;34m\u001b[0m\u001b[0m\n\u001b[0m",
            "\u001b[0;31mTypeError\u001b[0m: 'str' object does not support item assignment"
          ]
        }
      ]
    },
    {
      "cell_type": "markdown",
      "metadata": {
        "id": "j6j1RKBzzYXy",
        "colab_type": "text"
      },
      "source": [
        "A **dictionary** is a mapping type. It maps [hashable](http://docs.python.org/2/glossary.html#term-hashable) keys to arbitrary objects. Hashable simply means that mutable objects cannot be used as keys to a dictionary. I.e., since lists and dictionaries are mutable, they can't be keys of a dictionary. Dictionaries can be instantiated in a number of ways. The most common is through curly brackets and using `dict`."
      ]
    },
    {
      "cell_type": "code",
      "metadata": {
        "id": "vUXAyd8IzYXz",
        "colab_type": "code",
        "colab": {}
      },
      "source": [
        "d = {\n",
        "    1: 'I am a value', \n",
        "    'key': 'Another value', \n",
        "    '2': [1, 2, 3],\n",
        "     12 : \"twelve\"\n",
        "}"
      ],
      "execution_count": null,
      "outputs": []
    },
    {
      "cell_type": "markdown",
      "metadata": {
        "id": "ZsxIvCZozYX0",
        "colab_type": "text"
      },
      "source": [
        "You can get that values associated with a key like so"
      ]
    },
    {
      "cell_type": "code",
      "metadata": {
        "id": "0pwFhkCFzYX1",
        "colab_type": "code",
        "colab": {
          "base_uri": "https://localhost:8080/"
        },
        "outputId": "5cfd1203-6d38-425f-d454-58bcdb6193b0"
      },
      "source": [
        "d[1]"
      ],
      "execution_count": null,
      "outputs": [
        {
          "output_type": "execute_result",
          "data": {
            "application/vnd.google.colaboratory.intrinsic": {
              "type": "string"
            },
            "text/plain": [
              "'I am a value'"
            ]
          },
          "metadata": {
            "tags": []
          },
          "execution_count": 75
        }
      ]
    },
    {
      "cell_type": "code",
      "metadata": {
        "id": "iNnraUxOzYX2",
        "colab_type": "code",
        "colab": {
          "base_uri": "https://localhost:8080/"
        },
        "outputId": "ebbb0efa-7048-4ad6-e006-9d9fb305b6d1"
      },
      "source": [
        "d['2']"
      ],
      "execution_count": null,
      "outputs": [
        {
          "output_type": "execute_result",
          "data": {
            "text/plain": [
              "[1, 2, 3]"
            ]
          },
          "metadata": {
            "tags": []
          },
          "execution_count": 76
        }
      ]
    },
    {
      "cell_type": "code",
      "metadata": {
        "id": "KD8bFsnRzYX4",
        "colab_type": "code",
        "colab": {
          "base_uri": "https://localhost:8080/"
        },
        "outputId": "10aa2474-5330-4ff0-dd22-f130efbdd906"
      },
      "source": [
        "d['key']"
      ],
      "execution_count": null,
      "outputs": [
        {
          "output_type": "execute_result",
          "data": {
            "application/vnd.google.colaboratory.intrinsic": {
              "type": "string"
            },
            "text/plain": [
              "'Another value'"
            ]
          },
          "metadata": {
            "tags": []
          },
          "execution_count": 77
        }
      ]
    },
    {
      "cell_type": "code",
      "metadata": {
        "id": "ky0r4QhDzYX5",
        "colab_type": "code",
        "colab": {
          "base_uri": "https://localhost:8080/"
        },
        "outputId": "5a7038d7-64fd-4816-d7bc-e8b97b8bc28c"
      },
      "source": [
        "d.get(12)"
      ],
      "execution_count": null,
      "outputs": [
        {
          "output_type": "execute_result",
          "data": {
            "application/vnd.google.colaboratory.intrinsic": {
              "type": "string"
            },
            "text/plain": [
              "'twelve'"
            ]
          },
          "metadata": {
            "tags": []
          },
          "execution_count": 84
        }
      ]
    },
    {
      "cell_type": "markdown",
      "metadata": {
        "id": "qY6fPbMWzYX7",
        "colab_type": "text"
      },
      "source": [
        "You can also use the `dict` constructor."
      ]
    },
    {
      "cell_type": "code",
      "metadata": {
        "id": "klEShcDMzYX7",
        "colab_type": "code",
        "colab": {}
      },
      "source": [
        "d = dict(key=12, other_key=[1, 2, 3])"
      ],
      "execution_count": null,
      "outputs": []
    },
    {
      "cell_type": "code",
      "metadata": {
        "id": "Wx3eb73szYX9",
        "colab_type": "code",
        "colab": {
          "base_uri": "https://localhost:8080/"
        },
        "outputId": "b005750f-8894-4442-d091-c1965664f25b"
      },
      "source": [
        "d['other_key']"
      ],
      "execution_count": null,
      "outputs": [
        {
          "output_type": "execute_result",
          "data": {
            "text/plain": [
              "[1, 2, 3]"
            ]
          },
          "metadata": {
            "tags": []
          },
          "execution_count": 86
        }
      ]
    },
    {
      "cell_type": "code",
      "metadata": {
        "id": "gVWB08RYHMvX",
        "colab_type": "code",
        "colab": {
          "base_uri": "https://localhost:8080/"
        },
        "outputId": "f38c267b-f01c-4b35-d912-cd5240928b12"
      },
      "source": [
        "print(d)"
      ],
      "execution_count": null,
      "outputs": [
        {
          "output_type": "stream",
          "text": [
            "{'key': 12, 'other_key': [1, 2, 3]}\n"
          ],
          "name": "stdout"
        }
      ]
    },
    {
      "cell_type": "code",
      "metadata": {
        "id": "97Z1xFNHHLOv",
        "colab_type": "code",
        "colab": {}
      },
      "source": [
        ""
      ],
      "execution_count": null,
      "outputs": []
    },
    {
      "cell_type": "markdown",
      "metadata": {
        "id": "gq97tHnNzYYB",
        "colab_type": "text"
      },
      "source": [
        "Or create a dictionary from an iterable."
      ]
    },
    {
      "cell_type": "code",
      "metadata": {
        "id": "lItKYm4ezYYD",
        "colab_type": "code",
        "colab": {}
      },
      "source": [
        "key_value_pairs = [('key', [1, 2, 3]), ('other', 12), (12, 'value')]\n",
        "d = dict(key_value_pairs)"
      ],
      "execution_count": null,
      "outputs": []
    },
    {
      "cell_type": "code",
      "metadata": {
        "id": "luhKttnMzYYE",
        "colab_type": "code",
        "colab": {}
      },
      "source": [
        "d"
      ],
      "execution_count": null,
      "outputs": []
    },
    {
      "cell_type": "markdown",
      "metadata": {
        "id": "wmPJPCfrzYYG",
        "colab_type": "text"
      },
      "source": [
        "You can find out much more about built-in types and operators in the Python documentation [here](http://docs.python.org/3/library/stdtypes.html)."
      ]
    },
    {
      "cell_type": "markdown",
      "metadata": {
        "id": "F19amRDWzYYG",
        "colab_type": "text"
      },
      "source": [
        "Some useful functions for working with sequences."
      ]
    },
    {
      "cell_type": "code",
      "metadata": {
        "id": "kbjI7N1XzYYG",
        "colab_type": "code",
        "colab": {}
      },
      "source": [
        "a = range(1, 100, 12)"
      ],
      "execution_count": null,
      "outputs": []
    },
    {
      "cell_type": "code",
      "metadata": {
        "id": "qPfN7o6ozYYI",
        "colab_type": "code",
        "colab": {
          "base_uri": "https://localhost:8080/"
        },
        "outputId": "30f9eeb5-8486-497d-b307-800d4f8dba68"
      },
      "source": [
        "len(a)"
      ],
      "execution_count": null,
      "outputs": [
        {
          "output_type": "execute_result",
          "data": {
            "text/plain": [
              "9"
            ]
          },
          "metadata": {
            "tags": []
          },
          "execution_count": 89
        }
      ]
    },
    {
      "cell_type": "code",
      "metadata": {
        "id": "dVGXWIwfzYYL",
        "colab_type": "code",
        "colab": {
          "base_uri": "https://localhost:8080/"
        },
        "outputId": "4118fdf1-1e9f-4a89-a414-c90d0f348eb4"
      },
      "source": [
        "13 in a"
      ],
      "execution_count": null,
      "outputs": [
        {
          "output_type": "execute_result",
          "data": {
            "text/plain": [
              "True"
            ]
          },
          "metadata": {
            "tags": []
          },
          "execution_count": 90
        }
      ]
    },
    {
      "cell_type": "code",
      "metadata": {
        "id": "KYMZ4JJazYYM",
        "colab_type": "code",
        "colab": {
          "base_uri": "https://localhost:8080/"
        },
        "outputId": "616c405b-cb52-4089-d582-7e051d1161a8"
      },
      "source": [
        "15 in a"
      ],
      "execution_count": null,
      "outputs": [
        {
          "output_type": "execute_result",
          "data": {
            "text/plain": [
              "False"
            ]
          },
          "metadata": {
            "tags": []
          },
          "execution_count": 91
        }
      ]
    },
    {
      "cell_type": "code",
      "metadata": {
        "id": "-ySdko2kzYYO",
        "colab_type": "code",
        "colab": {
          "base_uri": "https://localhost:8080/"
        },
        "outputId": "3e6a6692-2445-46d6-81e1-37cfd02045dc"
      },
      "source": [
        "15 not in a"
      ],
      "execution_count": null,
      "outputs": [
        {
          "output_type": "execute_result",
          "data": {
            "text/plain": [
              "True"
            ]
          },
          "metadata": {
            "tags": []
          },
          "execution_count": 92
        }
      ]
    },
    {
      "cell_type": "markdown",
      "metadata": {
        "id": "cqxVeD80zYYP",
        "colab_type": "text"
      },
      "source": [
        "The following will give the methods and/or attributes available for any object."
      ]
    },
    {
      "cell_type": "code",
      "metadata": {
        "id": "C-zywWuFzYYQ",
        "colab_type": "code",
        "colab": {
          "base_uri": "https://localhost:8080/"
        },
        "outputId": "4ef30f1c-23e6-43a7-dfda-862ebb322351"
      },
      "source": [
        "dir(a)"
      ],
      "execution_count": null,
      "outputs": [
        {
          "output_type": "execute_result",
          "data": {
            "text/plain": [
              "['__bool__',\n",
              " '__class__',\n",
              " '__contains__',\n",
              " '__delattr__',\n",
              " '__dir__',\n",
              " '__doc__',\n",
              " '__eq__',\n",
              " '__format__',\n",
              " '__ge__',\n",
              " '__getattribute__',\n",
              " '__getitem__',\n",
              " '__gt__',\n",
              " '__hash__',\n",
              " '__init__',\n",
              " '__init_subclass__',\n",
              " '__iter__',\n",
              " '__le__',\n",
              " '__len__',\n",
              " '__lt__',\n",
              " '__ne__',\n",
              " '__new__',\n",
              " '__reduce__',\n",
              " '__reduce_ex__',\n",
              " '__repr__',\n",
              " '__reversed__',\n",
              " '__setattr__',\n",
              " '__sizeof__',\n",
              " '__str__',\n",
              " '__subclasshook__',\n",
              " 'count',\n",
              " 'index',\n",
              " 'start',\n",
              " 'step',\n",
              " 'stop']"
            ]
          },
          "metadata": {
            "tags": []
          },
          "execution_count": 93
        }
      ]
    },
    {
      "cell_type": "markdown",
      "metadata": {
        "id": "TCK07tfazYYR",
        "colab_type": "text"
      },
      "source": [
        "Or use the Jupyter Notebook's tab-completion."
      ]
    },
    {
      "cell_type": "markdown",
      "metadata": {
        "id": "XyjgWJc3zYYS",
        "colab_type": "text"
      },
      "source": [
        "    In [1]: a.<tab>\n",
        "    a.append   a.count    a.extend   a.index    a.insert   a.pop      a.remove   a.reverse  a.sort    "
      ]
    },
    {
      "cell_type": "markdown",
      "metadata": {
        "id": "u8yjwkyDzYYS",
        "colab_type": "text"
      },
      "source": [
        "## Control Flow Tools"
      ]
    },
    {
      "cell_type": "markdown",
      "metadata": {
        "id": "fRpKKmhRzYYS",
        "colab_type": "text"
      },
      "source": [
        "**if** statements"
      ]
    },
    {
      "cell_type": "code",
      "metadata": {
        "id": "XNdiEf60zYYS",
        "colab_type": "code",
        "colab": {}
      },
      "source": [
        "x = 42"
      ],
      "execution_count": null,
      "outputs": []
    },
    {
      "cell_type": "code",
      "metadata": {
        "id": "2lWk9E-tzYYU",
        "colab_type": "code",
        "colab": {
          "base_uri": "https://localhost:8080/",
          "height": 34
        },
        "outputId": "0809dcfc-d818-4044-b986-4cb6bf512fda"
      },
      "source": [
        "if x < 0:\n",
        "    x = 0\n",
        "    print(x)\n",
        "    print('Negative set to zero')\n",
        "elif x == 0:\n",
        "    print('Zero')\n",
        "elif x == 1:\n",
        "    print('Single')\n",
        "else:\n",
        "    print('More')"
      ],
      "execution_count": null,
      "outputs": [
        {
          "output_type": "stream",
          "text": [
            "Single\n"
          ],
          "name": "stdout"
        }
      ]
    },
    {
      "cell_type": "markdown",
      "metadata": {
        "id": "dU0WBGZfzYYX",
        "colab_type": "text"
      },
      "source": [
        "**for loops**"
      ]
    },
    {
      "cell_type": "code",
      "metadata": {
        "id": "CvP0bBmAzYYX",
        "colab_type": "code",
        "colab": {
          "base_uri": "https://localhost:8080/",
          "height": 102
        },
        "outputId": "2567b27a-7308-4073-aff3-59b305b3a8d9"
      },
      "source": [
        "for i in range(2,12,2):\n",
        "    print(i)"
      ],
      "execution_count": null,
      "outputs": [
        {
          "output_type": "stream",
          "text": [
            "2\n",
            "4\n",
            "6\n",
            "8\n",
            "10\n"
          ],
          "name": "stdout"
        }
      ]
    },
    {
      "cell_type": "markdown",
      "metadata": {
        "id": "WQ4V3hmRzYYY",
        "colab_type": "text"
      },
      "source": [
        "**while loops**"
      ]
    },
    {
      "cell_type": "code",
      "metadata": {
        "id": "icWxznbSzYYZ",
        "colab_type": "code",
        "colab": {
          "base_uri": "https://localhost:8080/",
          "height": 102
        },
        "outputId": "caaf1a9b-e4b1-4785-fcaf-c8cc60d464d2"
      },
      "source": [
        "x = 0\n",
        "while x < 5:\n",
        "    print(x)\n",
        "    x += 1"
      ],
      "execution_count": null,
      "outputs": [
        {
          "output_type": "stream",
          "text": [
            "0\n",
            "1\n",
            "2\n",
            "3\n",
            "4\n"
          ],
          "name": "stdout"
        }
      ]
    },
    {
      "cell_type": "markdown",
      "metadata": {
        "id": "f4Zx2exMzYYa",
        "colab_type": "text"
      },
      "source": [
        "**break** and **continue** statements"
      ]
    },
    {
      "cell_type": "code",
      "metadata": {
        "id": "0ycpSz5-zYYb",
        "colab_type": "code",
        "colab": {
          "base_uri": "https://localhost:8080/",
          "height": 85
        },
        "outputId": "396b5295-d6a5-4cc9-a68d-385697b8a7a5"
      },
      "source": [
        "for i in range(2, 10):\n",
        "    if i > 5:\n",
        "        break\n",
        "    print(i)"
      ],
      "execution_count": null,
      "outputs": [
        {
          "output_type": "stream",
          "text": [
            "2\n",
            "3\n",
            "4\n",
            "5\n"
          ],
          "name": "stdout"
        }
      ]
    },
    {
      "cell_type": "code",
      "metadata": {
        "id": "EA-_6Q4BzYYc",
        "colab_type": "code",
        "colab": {
          "base_uri": "https://localhost:8080/",
          "height": 136
        },
        "outputId": "74351a15-7b23-45c6-d425-f2af77c344e6"
      },
      "source": [
        "for i in range(2, 10):\n",
        "    if i == 6:\n",
        "        continue\n",
        "    print(i)"
      ],
      "execution_count": null,
      "outputs": [
        {
          "output_type": "stream",
          "text": [
            "2\n",
            "3\n",
            "4\n",
            "5\n",
            "7\n",
            "8\n",
            "9\n"
          ],
          "name": "stdout"
        }
      ]
    },
    {
      "cell_type": "code",
      "metadata": {
        "id": "ClB00SWszYYe",
        "colab_type": "code",
        "colab": {
          "base_uri": "https://localhost:8080/",
          "height": 153
        },
        "outputId": "c3540824-e6b4-4961-babe-bc26d66d8138"
      },
      "source": [
        "for n in range(2, 10):\n",
        "    for x in range(2, n):\n",
        "        if n % x == 0:\n",
        "            print(n, 'equals', x, '*', n/x)\n",
        "            break\n",
        "    else:\n",
        "        # loop fell through without finding a factor\n",
        "        print(n, 'is a prime number')"
      ],
      "execution_count": null,
      "outputs": [
        {
          "output_type": "stream",
          "text": [
            "2 is a prime number\n",
            "3 is a prime number\n",
            "4 equals 2 * 2.0\n",
            "5 is a prime number\n",
            "6 equals 2 * 3.0\n",
            "7 is a prime number\n",
            "8 equals 2 * 4.0\n",
            "9 equals 3 * 3.0\n"
          ],
          "name": "stdout"
        }
      ]
    },
    {
      "cell_type": "markdown",
      "metadata": {
        "id": "VMUaoaCTzYYf",
        "colab_type": "text"
      },
      "source": [
        "*Else* in the above belongs to the *for* clause. It is executed when the loop terminates through exhaustion of the list (with `for`) or when the condition becomes false (with `while`), but not when the loop is terminated by a `break` statement."
      ]
    },
    {
      "cell_type": "markdown",
      "metadata": {
        "id": "kkC0ufW8zYYf",
        "colab_type": "text"
      },
      "source": [
        "## Functions"
      ]
    },
    {
      "cell_type": "markdown",
      "metadata": {
        "id": "1nOTG3JAlJ5E",
        "colab_type": "text"
      },
      "source": [
        "Types of Functions\n",
        "Basically, we can divide functions into the following two types:\n",
        "\n",
        "1.   Built-in functions - Functions that are built into Python.\n",
        "2.   User-defined functions - Functions defined by the users themselves.\n",
        "\n",
        "\n"
      ]
    },
    {
      "cell_type": "markdown",
      "metadata": {
        "id": "1XD6OtkzzYYf",
        "colab_type": "text"
      },
      "source": [
        "We can define a function `square` that squares the input argument like so."
      ]
    },
    {
      "cell_type": "code",
      "metadata": {
        "id": "o4yBR7xXzYYf",
        "colab_type": "code",
        "colab": {}
      },
      "source": [
        "def square(x):\n",
        "    \"\"\"\n",
        "    \"\"\"\n",
        "    return x**2"
      ],
      "execution_count": null,
      "outputs": []
    },
    {
      "cell_type": "code",
      "metadata": {
        "id": "YPqrnAy5zYYh",
        "colab_type": "code",
        "colab": {
          "base_uri": "https://localhost:8080/",
          "height": 34
        },
        "outputId": "5705cdeb-a501-4c78-ff27-593d1aaf4ce0"
      },
      "source": [
        "square(12)"
      ],
      "execution_count": null,
      "outputs": [
        {
          "output_type": "execute_result",
          "data": {
            "text/plain": [
              "144"
            ]
          },
          "metadata": {
            "tags": []
          },
          "execution_count": 119
        }
      ]
    },
    {
      "cell_type": "markdown",
      "metadata": {
        "id": "TbKI3DEszYYi",
        "colab_type": "text"
      },
      "source": [
        "For a simple, small function like this, Python also provides what are called `lambda` functions, which are defined using the **lambda** statement."
      ]
    },
    {
      "cell_type": "code",
      "metadata": {
        "id": "PlMg1aMtzYYi",
        "colab_type": "code",
        "colab": {}
      },
      "source": [
        "square2 = lambda x : x**2"
      ],
      "execution_count": null,
      "outputs": []
    },
    {
      "cell_type": "code",
      "metadata": {
        "id": "djO7GsQMzYYj",
        "colab_type": "code",
        "colab": {
          "base_uri": "https://localhost:8080/",
          "height": 34
        },
        "outputId": "f2297e7f-7684-4d40-9f4b-81ada0ea4b6b"
      },
      "source": [
        "square2(12)"
      ],
      "execution_count": null,
      "outputs": [
        {
          "output_type": "execute_result",
          "data": {
            "text/plain": [
              "144"
            ]
          },
          "metadata": {
            "tags": []
          },
          "execution_count": 121
        }
      ]
    },
    {
      "cell_type": "code",
      "metadata": {
        "id": "QrnZvo3zocFb",
        "colab_type": "code",
        "colab": {
          "base_uri": "https://localhost:8080/",
          "height": 34
        },
        "outputId": "636a4950-e11b-4843-bd4d-831a73831155"
      },
      "source": [
        "# Program to filter out only the even items from a list\n",
        "my_list = [1, 5, 4, 6, 8, 11, 3, 12]\n",
        "\n",
        "new_list = list(filter(lambda x: (x%2 == 0) , my_list))\n",
        "\n",
        "print(new_list)\n"
      ],
      "execution_count": null,
      "outputs": [
        {
          "output_type": "stream",
          "text": [
            "[4, 6, 8, 12]\n"
          ],
          "name": "stdout"
        }
      ]
    },
    {
      "cell_type": "code",
      "metadata": {
        "id": "wo6MyahzofEV",
        "colab_type": "code",
        "colab": {
          "base_uri": "https://localhost:8080/",
          "height": 34
        },
        "outputId": "97737d6b-9449-4aa9-f0b1-8e431d8ef81b"
      },
      "source": [
        "# Program to double each item in a list using map()\n",
        "\n",
        "my_list = [1, 5, 4, 6, 8, 11, 3, 12]\n",
        "\n",
        "new_list = list(map(lambda x: x * 2 , my_list))\n",
        "\n",
        "print(new_list)"
      ],
      "execution_count": null,
      "outputs": [
        {
          "output_type": "stream",
          "text": [
            "[2, 10, 8, 12, 16, 22, 6, 24]\n"
          ],
          "name": "stdout"
        }
      ]
    },
    {
      "cell_type": "markdown",
      "metadata": {
        "id": "eDYV_KxRzYYl",
        "colab_type": "text"
      },
      "source": [
        "Python functions can and should have docstrings like the module docstring we saw above."
      ]
    },
    {
      "cell_type": "code",
      "metadata": {
        "id": "oPjWtZdKzYYl",
        "colab_type": "code",
        "colab": {}
      },
      "source": [
        "def square(x):\n",
        "    \"\"\"\n",
        "    Returns the square of an input.\n",
        "\n",
        "    Parameters\n",
        "    ----------\n",
        "    x : scalar\n",
        "        A number to square.\n",
        "\n",
        "    Returns\n",
        "    -------\n",
        "    ret : scalar\n",
        "        The input `x` squared, ie., x**2\n",
        "    \"\"\"\n",
        "    return x**2"
      ],
      "execution_count": null,
      "outputs": []
    },
    {
      "cell_type": "code",
      "metadata": {
        "id": "-FLWNdYAzYYn",
        "colab_type": "code",
        "colab": {
          "base_uri": "https://localhost:8080/",
          "height": 238
        },
        "outputId": "33a2f969-0c61-41ab-d293-9d72a98c9ff4"
      },
      "source": [
        "print(square.__doc__)"
      ],
      "execution_count": null,
      "outputs": [
        {
          "output_type": "stream",
          "text": [
            "\n",
            "    Returns the square of an input.\n",
            "\n",
            "    Parameters\n",
            "    ----------\n",
            "    x : scalar\n",
            "        A number to square.\n",
            "\n",
            "    Returns\n",
            "    -------\n",
            "    ret : scalar\n",
            "        The input `x` squared, ie., x**2\n",
            "    \n"
          ],
          "name": "stdout"
        }
      ]
    },
    {
      "cell_type": "code",
      "metadata": {
        "id": "818bvk20lxHr",
        "colab_type": "code",
        "colab": {}
      },
      "source": [
        "#default argumetS\n",
        "def greet(name, msg=\"Good morning!\"):\n",
        "    \"\"\"\n",
        "    This function greets to\n",
        "    the person with the\n",
        "    provided message.\n",
        "\n",
        "    If the message is not provided,\n",
        "    it defaults to \"Good\n",
        "    morning!\"\n",
        "    \"\"\"\n",
        "\n",
        "    print(\"Hello\", name + ', ' + msg)\n"
      ],
      "execution_count": null,
      "outputs": []
    },
    {
      "cell_type": "code",
      "metadata": {
        "id": "lee_KuURl6K2",
        "colab_type": "code",
        "colab": {
          "base_uri": "https://localhost:8080/",
          "height": 34
        },
        "outputId": "9dc0fc32-ba6e-4aa7-dc68-1e24f54e95d5"
      },
      "source": [
        "greet(\"Thura Aung\")"
      ],
      "execution_count": null,
      "outputs": [
        {
          "output_type": "stream",
          "text": [
            "Hello Thura Aung, Good morning!\n"
          ],
          "name": "stdout"
        }
      ]
    },
    {
      "cell_type": "code",
      "metadata": {
        "id": "OyaL_oyQl5j-",
        "colab_type": "code",
        "colab": {}
      },
      "source": [
        "def greet(*names):\n",
        "    \"\"\"This function greets all\n",
        "    the person in the names tuple.\"\"\"\n",
        "\n",
        "    # names is a tuple with arguments\n",
        "    for name in names:\n",
        "        print(\"Hello\", name)"
      ],
      "execution_count": null,
      "outputs": []
    },
    {
      "cell_type": "code",
      "metadata": {
        "id": "KIY_xqfxgqFM",
        "colab_type": "code",
        "colab": {
          "base_uri": "https://localhost:8080/",
          "height": 68
        },
        "outputId": "f4d12b70-6bac-4cbf-d3c0-e66eda32161c"
      },
      "source": [
        "greet(\"Thura\",\"Zarni\",\"San Pyae\")"
      ],
      "execution_count": null,
      "outputs": [
        {
          "output_type": "stream",
          "text": [
            "Hello Thura\n",
            "Hello Zarni\n",
            "Hello San Pyae\n"
          ],
          "name": "stdout"
        }
      ]
    },
    {
      "cell_type": "code",
      "metadata": {
        "id": "E2zJzEHcnIaK",
        "colab_type": "code",
        "colab": {}
      },
      "source": [
        "def factorial(x):\n",
        "    \"\"\"This is a recursive function\n",
        "    to find the factorial of an integer\"\"\"\n",
        "\n",
        "    if x == 1:\n",
        "        return 1\n",
        "    else:\n",
        "        print(x)\n",
        "        return (x * factorial(x-1))"
      ],
      "execution_count": null,
      "outputs": []
    },
    {
      "cell_type": "code",
      "metadata": {
        "id": "l5X7jnZRnKRA",
        "colab_type": "code",
        "colab": {
          "base_uri": "https://localhost:8080/",
          "height": 102
        },
        "outputId": "da54300a-fedb-4e42-d986-5721db6e5650"
      },
      "source": [
        "num = eval(input(\"Enter a number: \"))\n",
        "print(factorial(num))"
      ],
      "execution_count": null,
      "outputs": [
        {
          "output_type": "stream",
          "text": [
            "Enter a number: 4\n",
            "4\n",
            "3\n",
            "2\n",
            "24\n"
          ],
          "name": "stdout"
        }
      ]
    },
    {
      "cell_type": "markdown",
      "metadata": {
        "id": "SEjJqpHvljx8",
        "colab_type": "text"
      },
      "source": [
        "Advantages of Recursion\n",
        "* clean and elegant\n",
        "* complex code into similar sub-problems\n",
        "\n",
        "Disadvantages\n",
        "* logic is hard\n",
        "* memory expensive\n",
        "* hard to debug"
      ]
    },
    {
      "cell_type": "markdown",
      "metadata": {
        "id": "WcJzEH5apdZ8",
        "colab_type": "text"
      },
      "source": [
        "Scope of a variable\n",
        "*   global\n",
        "*   local\n",
        "*   nonlocal\n"
      ]
    },
    {
      "cell_type": "code",
      "metadata": {
        "id": "H0u1yxSjpYsG",
        "colab_type": "code",
        "colab": {
          "base_uri": "https://localhost:8080/",
          "height": 51
        },
        "outputId": "ebd1c26b-8a95-4122-ac9e-5e9b20eec640"
      },
      "source": [
        "c = 0 # global variable\n",
        "\n",
        "def add():\n",
        "    global c\n",
        "    #c = 0\n",
        "    c = c + 2 # increment by 2\n",
        "    print(\"Inside add():\", c)\n",
        "\n",
        "add()\n",
        "print(\"In main:\", c)"
      ],
      "execution_count": null,
      "outputs": [
        {
          "output_type": "stream",
          "text": [
            "Inside add(): 2\n",
            "In main: 2\n"
          ],
          "name": "stdout"
        }
      ]
    },
    {
      "cell_type": "markdown",
      "metadata": {
        "id": "3XG2_O6yTlie",
        "colab_type": "text"
      },
      "source": [
        "## List Comprehension"
      ]
    },
    {
      "cell_type": "code",
      "metadata": {
        "id": "vhije1WeT7ot",
        "colab_type": "code",
        "colab": {
          "base_uri": "https://localhost:8080/",
          "height": 34
        },
        "outputId": "5c22ad52-8ef7-4042-f608-24a6c594ef3d"
      },
      "source": [
        "[i for i in range(1, 6) if i%2 == 0]"
      ],
      "execution_count": null,
      "outputs": [
        {
          "output_type": "execute_result",
          "data": {
            "text/plain": [
              "[2, 4]"
            ]
          },
          "metadata": {
            "tags": []
          },
          "execution_count": 146
        }
      ]
    },
    {
      "cell_type": "code",
      "metadata": {
        "id": "mmAUMDZ8mG2S",
        "colab_type": "code",
        "colab": {
          "base_uri": "https://localhost:8080/",
          "height": 34
        },
        "outputId": "414d9f24-6bed-4eea-8a65-09ca5a3b80d0"
      },
      "source": [
        "result_list = []\n",
        "for i in range(1,6):\n",
        "    \n",
        "    if(i%2 == 0):\n",
        "      result_list.append(i)\n",
        "    else:\n",
        "      continue\n",
        "result_list"
      ],
      "execution_count": null,
      "outputs": [
        {
          "output_type": "execute_result",
          "data": {
            "text/plain": [
              "[2, 4]"
            ]
          },
          "metadata": {
            "tags": []
          },
          "execution_count": 148
        }
      ]
    },
    {
      "cell_type": "code",
      "metadata": {
        "id": "b0Gd_PvZT8rq",
        "colab_type": "code",
        "colab": {
          "base_uri": "https://localhost:8080/",
          "height": 34
        },
        "outputId": "40e4d32e-3379-4d12-a59d-0afd1fe51865"
      },
      "source": [
        "result_list = []\n",
        "\n",
        "for i in range(1, 6):\n",
        "    result_list.append(i)\n",
        "\n",
        "result_list"
      ],
      "execution_count": null,
      "outputs": [
        {
          "output_type": "execute_result",
          "data": {
            "text/plain": [
              "[1, 2, 3, 4, 5]"
            ]
          },
          "metadata": {
            "tags": []
          },
          "execution_count": 140
        }
      ]
    },
    {
      "cell_type": "code",
      "metadata": {
        "id": "JBw9dIXaUExu",
        "colab_type": "code",
        "colab": {}
      },
      "source": [
        "x = ['a', 'b', 'c', 'd', '_e', '_f']"
      ],
      "execution_count": null,
      "outputs": []
    },
    {
      "cell_type": "code",
      "metadata": {
        "id": "kAh_WuuTUIaS",
        "colab_type": "code",
        "colab": {
          "base_uri": "https://localhost:8080/",
          "height": 34
        },
        "outputId": "d82b64ef-340f-4031-cce2-a6f8b539dc76"
      },
      "source": [
        "[i for i in x if not i.startswith('_')]"
      ],
      "execution_count": null,
      "outputs": [
        {
          "output_type": "execute_result",
          "data": {
            "text/plain": [
              "['a', 'b', 'c', 'd']"
            ]
          },
          "metadata": {
            "tags": []
          },
          "execution_count": 145
        }
      ]
    },
    {
      "cell_type": "code",
      "metadata": {
        "id": "K8kpJc9mUReT",
        "colab_type": "code",
        "colab": {
          "base_uri": "https://localhost:8080/",
          "height": 34
        },
        "outputId": "2a7359f0-bda1-46a0-b48c-0bd712a0cde3"
      },
      "source": [
        "[i if not i.startswith('_') else 'skipped' for i in x]"
      ],
      "execution_count": null,
      "outputs": [
        {
          "output_type": "execute_result",
          "data": {
            "text/plain": [
              "['a', 'b', 'c', 'd', 'skipped', 'skipped']"
            ]
          },
          "metadata": {
            "tags": []
          },
          "execution_count": 149
        }
      ]
    },
    {
      "cell_type": "markdown",
      "metadata": {
        "id": "Bl94UxlVsPQF",
        "colab_type": "text"
      },
      "source": [
        "## CSV files"
      ]
    },
    {
      "cell_type": "code",
      "metadata": {
        "id": "6JHmGgIPsUNT",
        "colab_type": "code",
        "colab": {}
      },
      "source": [
        "csv_file = open(\"sample_data/california_housing_test.csv\")"
      ],
      "execution_count": null,
      "outputs": []
    },
    {
      "cell_type": "code",
      "metadata": {
        "id": "ADfeJ3uWsoxh",
        "colab_type": "code",
        "colab": {}
      },
      "source": [
        "line = next(csv_file)"
      ],
      "execution_count": null,
      "outputs": []
    },
    {
      "cell_type": "code",
      "metadata": {
        "id": "9WXHk5RzsvpM",
        "colab_type": "code",
        "colab": {
          "base_uri": "https://localhost:8080/",
          "height": 71
        },
        "outputId": "37de7a79-36d6-4f59-c875-c8c333ad651b"
      },
      "source": [
        "print(line)"
      ],
      "execution_count": null,
      "outputs": [
        {
          "output_type": "stream",
          "text": [
            "\"longitude\",\"latitude\",\"housing_median_age\",\"total_rooms\",\"total_bedrooms\",\"population\",\"households\",\"median_income\",\"median_house_value\"\n",
            "\n"
          ],
          "name": "stdout"
        }
      ]
    },
    {
      "cell_type": "code",
      "metadata": {
        "id": "AKydDGTPsw7r",
        "colab_type": "code",
        "colab": {}
      },
      "source": [
        "for line in csv_file:\n",
        "  print(line)"
      ],
      "execution_count": null,
      "outputs": []
    },
    {
      "cell_type": "code",
      "metadata": {
        "id": "6O1BYfHZtl48",
        "colab_type": "code",
        "colab": {}
      },
      "source": [
        "#close the csv file\n",
        "csv_file.close()"
      ],
      "execution_count": null,
      "outputs": []
    },
    {
      "cell_type": "code",
      "metadata": {
        "id": "hMwvKZZjuSIW",
        "colab_type": "code",
        "colab": {}
      },
      "source": [
        "import csv\n",
        "from pprint import pprint"
      ],
      "execution_count": null,
      "outputs": []
    },
    {
      "cell_type": "code",
      "metadata": {
        "id": "9qFbCjweuRAP",
        "colab_type": "code",
        "colab": {}
      },
      "source": [
        "csv_file = open(\"sample_data/california_housing_test.csv\")\n",
        "\n",
        "reader = csv.reader(csv_file)"
      ],
      "execution_count": null,
      "outputs": []
    },
    {
      "cell_type": "code",
      "metadata": {
        "id": "WRvKYAXgu0JC",
        "colab_type": "code",
        "colab": {}
      },
      "source": [
        "headers = next(reader)"
      ],
      "execution_count": null,
      "outputs": []
    },
    {
      "cell_type": "code",
      "metadata": {
        "id": "eKDulbQIu2xb",
        "colab_type": "code",
        "colab": {
          "base_uri": "https://localhost:8080/",
          "height": 170
        },
        "outputId": "471825a5-cc5a-4fed-c876-5898da8e104f"
      },
      "source": [
        "pprint(headers)"
      ],
      "execution_count": null,
      "outputs": [
        {
          "output_type": "stream",
          "text": [
            "['longitude',\n",
            " 'latitude',\n",
            " 'housing_median_age',\n",
            " 'total_rooms',\n",
            " 'total_bedrooms',\n",
            " 'population',\n",
            " 'households',\n",
            " 'median_income',\n",
            " 'median_house_value']\n"
          ],
          "name": "stdout"
        }
      ]
    },
    {
      "cell_type": "code",
      "metadata": {
        "id": "869tohOkncCK",
        "colab_type": "code",
        "colab": {}
      },
      "source": [
        ""
      ],
      "execution_count": null,
      "outputs": []
    },
    {
      "cell_type": "code",
      "metadata": {
        "id": "-p5VPrDuKlJh",
        "colab_type": "code",
        "colab": {}
      },
      "source": [
        "from google.colab import drive\n",
        "drive.mount('/content/drive')"
      ],
      "execution_count": null,
      "outputs": []
    }
  ]
}