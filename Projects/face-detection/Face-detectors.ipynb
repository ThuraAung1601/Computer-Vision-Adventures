{
 "cells": [
  {
   "cell_type": "code",
   "execution_count": 36,
   "id": "145d2be8",
   "metadata": {},
   "outputs": [],
   "source": [
    "from mtcnn.mtcnn import MTCNN\n",
    "import cv2\n",
    "import dlib\n",
    "import numpy as np\n",
    "import os"
   ]
  },
  {
   "cell_type": "code",
   "execution_count": 37,
   "id": "5a1ed630",
   "metadata": {},
   "outputs": [],
   "source": [
    "detector1 = MTCNN()\n",
    "detector2 = dlib.get_frontal_face_detector()\n",
    "modelFile = \"models/res10_300x300_ssd_iter_140000.caffemodel\"\n",
    "configFile = \"models/deploy.prototxt.txt\"\n",
    "net = cv2.dnn.readNetFromCaffe(configFile, modelFile)\n",
    "\n",
    "classifier2 = cv2.CascadeClassifier('models/haarcascade_frontalface2.xml')\n"
   ]
  },
  {
   "cell_type": "code",
   "execution_count": 38,
   "id": "c257d3d2",
   "metadata": {},
   "outputs": [],
   "source": [
    "images = os.listdir('faces')\n",
    "os.makedirs('faces/dlib')\n",
    "os.makedirs('faces/mtcnn')\n",
    "os.makedirs('faces/dnn')\n",
    "os.makedirs('faces/haar')\n"
   ]
  },
  {
   "cell_type": "code",
   "execution_count": 39,
   "id": "ae4fe238",
   "metadata": {},
   "outputs": [],
   "source": [
    "for image in images:\n",
    "    img = cv2.imread(os.path.join('faces', image))\n",
    "    \n",
    "    # img = cv2.resize(img, None, fx=2, fy=2)\n",
    "    height, width = img.shape[:2]\n",
    "    img1 = img.copy()\n",
    "    img2 = img.copy()\n",
    "    img3 = img.copy()\n",
    "    gray = cv2.cvtColor(img, cv2.COLOR_BGR2GRAY)\n",
    "    img_rgb = cv2.cvtColor(img, cv2.COLOR_BGR2RGB)\n",
    "    \n",
    "    # detect faces in the image\n",
    "    faces1 = detector1.detect_faces(img_rgb)\n",
    "    \n",
    "    faces2 = detector2(gray, 2)\n",
    "    blob = cv2.dnn.blobFromImage(cv2.resize(img, (300, 300)),\n",
    "                                 1.0, (300, 300), (104.0, 117.0, 123.0))\n",
    "    net.setInput(blob)\n",
    "    faces3 = net.forward()\n",
    "    faces4 = classifier2.detectMultiScale(img)\n",
    "    \n",
    "    #MTCNN\n",
    "    for result in faces1:\n",
    "        x, y, w, h = result['box']\n",
    "        x1, y1 = x + w, y + h\n",
    "        cv2.rectangle(img, (x, y), (x1, y1), (0, 0, 255), 2)\n",
    "        #face_crop = img[y:y+h, x:x+w]\n",
    "        \n",
    "    #DLIB    \n",
    "    for result in faces2:\n",
    "        x = result.left()\n",
    "        y = result.top()\n",
    "        x1 = result.right()\n",
    "        y1 = result.bottom()\n",
    "        cv2.rectangle(img1, (x, y), (x1, y1), (0, 0, 255), 2)\n",
    "        #face_crop1 = img1[y:y+h, x:x+w]\n",
    "    \n",
    "    #OPENCV DNN\n",
    "    for i in range(faces3.shape[2]):\n",
    "        confidence = faces3[0, 0, i, 2]\n",
    "        if confidence > 0.5:\n",
    "            box = faces3[0, 0, i, 3:7] * np.array([width, height, width, height])\n",
    "            (x, y, x1, y1) = box.astype(\"int\")\n",
    "            cv2.rectangle(img2, (x, y), (x1, y1), (0, 0, 255), 2)\n",
    "            #face_crop2 = img2[y:y1, x:x1]\n",
    "        \n",
    "    #HAAR        \n",
    "    for result in faces4:\n",
    "        x, y, w, h = result\n",
    "        x1, y1 = x + w, y + h\n",
    "        cv2.rectangle(img3, (x, y), (x1, y1), (0, 0, 255), 2)\n",
    "        #face_crop3 = img3[y:y+h, x:x+w]\n",
    "    \n",
    "    cv2.imwrite(os.path.join('faces', 'mtcnn', image), img)\n",
    "    cv2.imwrite(os.path.join('faces', 'dlib', image), img1)\n",
    "    cv2.imwrite(os.path.join('faces', 'dnn', image), img2)\n",
    "    cv2.imwrite(os.path.join('faces', 'haar', image), img3)\n",
    "    \n",
    "    #cv2.imwrite(os.path.join('faces', 'mtcnn', image), face_crop)\n",
    "    #cv2.imwrite(os.path.join('faces', 'dlib', image), face_crop1)\n",
    "    #cv2.imwrite(os.path.join('faces', 'dnn', image), face_crop2)\n",
    "    #cv2.imwrite(os.path.join('faces', 'haar', image), face_crop3)"
   ]
  },
  {
   "cell_type": "code",
   "execution_count": null,
   "id": "27bd3772",
   "metadata": {},
   "outputs": [],
   "source": []
  }
 ],
 "metadata": {
  "kernelspec": {
   "display_name": "Python 3 (ipykernel)",
   "language": "python",
   "name": "python3"
  },
  "language_info": {
   "codemirror_mode": {
    "name": "ipython",
    "version": 3
   },
   "file_extension": ".py",
   "mimetype": "text/x-python",
   "name": "python",
   "nbconvert_exporter": "python",
   "pygments_lexer": "ipython3",
   "version": "3.7.7"
  }
 },
 "nbformat": 4,
 "nbformat_minor": 5
}
